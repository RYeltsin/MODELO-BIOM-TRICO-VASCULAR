{
  "nbformat": 4,
  "nbformat_minor": 0,
  "metadata": {
    "colab": {
      "name": "Untitled31.ipynb",
      "provenance": []
    },
    "kernelspec": {
      "name": "python3",
      "display_name": "Python 3"
    }
  },
  "cells": [
    {
      "cell_type": "markdown",
      "metadata": {
        "id": "CjfwgT4MwCJd"
      },
      "source": [
        "PRE-PROCESAMIENTO"
      ]
    },
    {
      "cell_type": "code",
      "metadata": {
        "id": "keIAHNx3v_3J"
      },
      "source": [
        "# Importación de librería\r\n",
        "%matplotlib inline\r\n",
        "import cv2\r\n",
        "from matplotlib import pyplot as plt\r\n",
        "import numpy as np\r\n",
        "import pandas as pd\r\n",
        "import os\r\n",
        "import glob"
      ],
      "execution_count": null,
      "outputs": []
    },
    {
      "cell_type": "code",
      "metadata": {
        "id": "e-SsmodEwGmA"
      },
      "source": [
        "# Creación de función de pre-procesamiento\r\n",
        "def imgQA(img):\r\n",
        "# ECUALIZACIÓN DE HISTOGRAMA - CLAHE\r\n",
        "    clahe = cv2.createCLAHE(clipLimit=4.0, tileGridSize=(3,3))\r\n",
        "    cl1 = clahe.apply(img)\r\n",
        "# REDUCCIÓN DE RUIDO\r\n",
        "    cv_gray = cv2.GaussianBlur(cl1,(3,3),0)\r\n",
        "    cv_gray = cv2.blur(cv_gray,(3,3))\r\n",
        "    cv_gray = cv2.medianBlur(cv_gray,3)\r\n",
        "# MEJORA DE CONTRASTE - CORECCIÓN GAMA\r\n",
        "    gamma_point_four = np.array(255*(cv_gray/255)**2.5,dtype='uint8')\r\n",
        "# Display the images in subplots\r\n",
        "    return gamma_point_four"
      ],
      "execution_count": null,
      "outputs": []
    },
    {
      "cell_type": "code",
      "metadata": {
        "id": "8Wv5FaMDweey"
      },
      "source": [
        "# Lectura de dataset\r\n",
        "Carpeta = os.listdir(\"BD-FV-USM/\")\r\n",
        "Carpeta"
      ],
      "execution_count": null,
      "outputs": []
    },
    {
      "cell_type": "code",
      "metadata": {
        "id": "UnXrKOKZwqou"
      },
      "source": [
        "# Aplicación de pre-procesamiento a cada imagen\r\n",
        "Carpeta = os.listdir(\"BD-FV-USM/\")\r\n",
        "for c in Carpeta:\r\n",
        "    Cat = glob.glob('BD-FV-USM/'+ c +'/*.jpg')\r\n",
        "    os.mkdir( c +'_eq')\r\n",
        "    path = c +'_eq/'\r\n",
        "    cont = 0\r\n",
        "    for carp in Cat:\r\n",
        "        print(carp)\r\n",
        "        try:\r\n",
        "            img = cv2.imread(carp)\r\n",
        "            bestImg = imgQA(img)\r\n",
        "            cv2.imwrite(os.path.join(path ,str(cont) + \"_A.jpg\" ), bestImg)\r\n",
        "        except:\r\n",
        "            continue\r\n",
        "        cont += 1"
      ],
      "execution_count": null,
      "outputs": []
    },
    {
      "cell_type": "code",
      "metadata": {
        "id": "03Li8hnfwxRh"
      },
      "source": [
        "f_carpetas = glob.glob('IMAGENES/Lince/*.jpg')"
      ],
      "execution_count": null,
      "outputs": []
    }
  ]
}