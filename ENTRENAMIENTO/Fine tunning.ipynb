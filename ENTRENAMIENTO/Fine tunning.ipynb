{
  "nbformat": 4,
  "nbformat_minor": 0,
  "metadata": {
    "colab": {
      "name": "Untitled21.ipynb",
      "provenance": []
    },
    "kernelspec": {
      "name": "python3",
      "display_name": "Python 3"
    }
  },
  "cells": [
    {
      "cell_type": "markdown",
      "metadata": {
        "id": "JVrbdC-jY9ik"
      },
      "source": [
        "# FINE TUNNING"
      ]
    },
    {
      "cell_type": "markdown",
      "metadata": {
        "id": "Fe7WkA--7rhF"
      },
      "source": [
        "# I. TRANSFER LEARNING"
      ]
    },
    {
      "cell_type": "markdown",
      "metadata": {
        "id": "ZPGDEbrkZGxL"
      },
      "source": [
        "## LECTURA DE DATA"
      ]
    },
    {
      "cell_type": "code",
      "metadata": {
        "id": "TO_EcXSaZZVx"
      },
      "source": [
        "#se importan dependencias\r\n",
        "import random \r\n",
        "import matplotlib.pyplot as plt\r\n",
        "import cv2\r\n",
        "import numpy as np"
      ],
      "execution_count": null,
      "outputs": []
    },
    {
      "cell_type": "code",
      "metadata": {
        "id": "MPEfTQrIY8kE"
      },
      "source": [
        "#Se instalan dependencias, se crean directorios\r\n",
        "!pip install kaggle\r\n",
        "!mkdir -p ~/.kaggle"
      ],
      "execution_count": null,
      "outputs": []
    },
    {
      "cell_type": "code",
      "metadata": {
        "id": "2Ie_T06AZKoc"
      },
      "source": [
        "#Se habilita el uso del API leyendo el kaggle.json\r\n",
        "from google.colab import files\r\n",
        "files.upload()"
      ],
      "execution_count": null,
      "outputs": []
    },
    {
      "cell_type": "code",
      "metadata": {
        "id": "LX8-2AAZZLDt"
      },
      "source": [
        "#Se crea el directorio y se habilitan los permisos para leer y escribir\r\n",
        "!mkdir -p ~/.kaggle\r\n",
        "!cp kaggle.json ~/.kaggle/\r\n",
        "\r\n",
        "#Cambiamos los permisos\r\n",
        "!chmod 600 ~/.kaggle/kaggle.json"
      ],
      "execution_count": null,
      "outputs": []
    },
    {
      "cell_type": "code",
      "metadata": {
        "id": "yKx6lhOnZPBE"
      },
      "source": [
        "!kaggle datasets download -d ryeltsin/bdfvusm-qa"
      ],
      "execution_count": null,
      "outputs": []
    },
    {
      "cell_type": "code",
      "metadata": {
        "id": "Px0iHMAqZRjl"
      },
      "source": [
        "#Se extrae la data desde el Zip descargado\r\n",
        "import os\r\n",
        "import zipfile\r\n",
        "\r\n",
        "zip_train_test = zipfile.ZipFile('bdfvusm-qa.zip','r')\r\n",
        "zip_train_test.extractall()\r\n",
        "zip_train_test.close()"
      ],
      "execution_count": null,
      "outputs": []
    },
    {
      "cell_type": "code",
      "metadata": {
        "id": "M2A61MlKZUi9"
      },
      "source": [
        "clases_dir = os.listdir('BD-FV-USM_QA')"
      ],
      "execution_count": null,
      "outputs": []
    },
    {
      "cell_type": "code",
      "metadata": {
        "id": "hQyt3xQEZb0J"
      },
      "source": [
        "#se crean los folders de train test y validation\r\n",
        "os.chdir('/content/BD-FV-USM_QA')\r\n",
        "if not os.path.isdir('train'):\r\n",
        "  os.mkdir('train')\r\n",
        "\r\n",
        "if not os.path.isdir('test'):\r\n",
        "  os.mkdir('test')\r\n",
        "\r\n",
        "if not os.path.isdir('val'):\r\n",
        "  os.mkdir('val')"
      ],
      "execution_count": null,
      "outputs": []
    },
    {
      "cell_type": "code",
      "metadata": {
        "id": "eQiuViloZe0m"
      },
      "source": [
        "all_elements = []\r\n",
        "for ie in clases_dir:\r\n",
        "  ll = os.listdir(ie)\r\n",
        "  all_elements.append(ll)"
      ],
      "execution_count": null,
      "outputs": []
    },
    {
      "cell_type": "code",
      "metadata": {
        "id": "8dGZqiKrZomF"
      },
      "source": [
        "# Importando función que define la cantidad de data para train test y validation\r\n",
        "from sklearn.model_selection import train_test_split\r\n",
        "\r\n",
        "def split_data(data, train_ratio=0.6, test_ratio=0.2, val_ratio=0.2 ):\r\n",
        "  train, test = train_test_split(data, test_size=1 - train_ratio, random_state=100)\r\n",
        "  test, val = train_test_split(test, test_size=test_ratio/(test_ratio + val_ratio), random_state=100) #Preguntar\r\n",
        "  return train, test, val"
      ],
      "execution_count": null,
      "outputs": []
    },
    {
      "cell_type": "code",
      "metadata": {
        "id": "hcOaony0ZtrK"
      },
      "source": [
        "l_dist = []\r\n",
        "for iclass in all_elements:\r\n",
        "  xtrain, xtest, xval = split_data(iclass)\r\n",
        "  l_dist.append((xtrain, xtest, xval))"
      ],
      "execution_count": null,
      "outputs": []
    },
    {
      "cell_type": "code",
      "metadata": {
        "id": "C58gaqZAZuJv"
      },
      "source": [
        "import shutil\r\n",
        "def move_data( path_orig, path_dest, clase, data_path ):\r\n",
        "  if not os.path.isdir(path_orig+'/'+path_dest+'/'+clase):\r\n",
        "    os.mkdir(path_orig+'/'+path_dest+'/'+clase)\r\n",
        "  \r\n",
        "  for i in data_path:\r\n",
        "    shutil.copy(path_orig+'/'+clase+'/'+i,path_orig+'/'+path_dest+'/'+clase+'/'+i)\r\n",
        "  print(\"success copy {} , {} , {}\".format(path_orig, path_dest, clase))"
      ],
      "execution_count": null,
      "outputs": []
    },
    {
      "cell_type": "markdown",
      "metadata": {
        "id": "i0p0YgfoZw6Q"
      },
      "source": [
        "## DIVISIÓN DE DATA"
      ]
    },
    {
      "cell_type": "code",
      "metadata": {
        "id": "ZgMxiN_EZz32"
      },
      "source": [
        "#Divicion de data en train test y validation\r\n",
        "lsplit = ['train', 'test', 'val']\r\n",
        "all_splits = l_dist\r\n",
        "lclases = clases_dir\r\n",
        "orig = os.getcwd()\r\n",
        "nclas = len(clases_dir)\r\n",
        "for j in range(3):\r\n",
        "  ii = 0\r\n",
        "  dest = lsplit[j]\r\n",
        "  while ii < nclas:\r\n",
        "    pathx = all_splits[ii][j]      \r\n",
        "    move_data(orig,dest, lclases[ii], pathx)\r\n",
        "    ii += 1"
      ],
      "execution_count": null,
      "outputs": []
    },
    {
      "cell_type": "code",
      "metadata": {
        "id": "EHdCcRRlaWmR"
      },
      "source": [
        "#Se define tamaños de imagen y se indica la cantidad de muestra\r\n",
        "pth_train = os.getcwd()+'/train'\r\n",
        "pth_test = os.getcwd()+'/test'\r\n",
        "pth_val = os.getcwd()+'/val'\r\n",
        "image_height = 100\r\n",
        "image_width = 300\r\n",
        "batch_size = 64"
      ],
      "execution_count": null,
      "outputs": []
    },
    {
      "cell_type": "markdown",
      "metadata": {
        "id": "AWBRo9EaaW_Z"
      },
      "source": [
        "## DATA AUGMENTATION"
      ]
    },
    {
      "cell_type": "code",
      "metadata": {
        "id": "AgB-_bPSaaj-"
      },
      "source": [
        "# Process image\r\n",
        "from keras.preprocessing.image import ImageDataGenerator"
      ],
      "execution_count": null,
      "outputs": []
    },
    {
      "cell_type": "code",
      "metadata": {
        "id": "cwPpvfALaecH"
      },
      "source": [
        "# OJO: si no se desea usar data augmentation, solo considerar rescale=1./255\r\n",
        "# train data augmentation\r\n",
        "train_datagen = ImageDataGenerator(rescale=1./255,\r\n",
        "                                   #Espejo horizontal\r\n",
        "                                   horizontal_flip = True,\r\n",
        "                                   #Rotación de la imagen\r\n",
        "                                   rotation_range=10,\r\n",
        "                                   #Brillo\r\n",
        "                                   brightness_range=None,\r\n",
        "                                   #Intensidad de corte\r\n",
        "                                   shear_range=0.2,\r\n",
        "                                   #Zoom\r\n",
        "                                   zoom_range=0.2\r\n",
        "                                   )\r\n",
        "\r\n",
        "## val data augmentation\r\n",
        "val_datagen = ImageDataGenerator(rescale=1./255)\r\n",
        "\r\n",
        "## test data augmentation\r\n",
        "test_datagen = ImageDataGenerator(rescale=1./255)"
      ],
      "execution_count": null,
      "outputs": []
    },
    {
      "cell_type": "code",
      "metadata": {
        "id": "y9c0ef61asyV"
      },
      "source": [
        "## read train data\r\n",
        "training_set = train_datagen.flow_from_directory(pth_train,\r\n",
        "                                                    target_size=(image_width, image_height),\r\n",
        "                                                    batch_size=batch_size,\r\n",
        "                                                    class_mode=\"categorical\") ## categorical\r\n",
        "                                      \r\n",
        "## read val data\r\n",
        "val_set = val_datagen.flow_from_directory(pth_val,\r\n",
        "                                                target_size=(image_width, image_height),\r\n",
        "                                                batch_size=batch_size,\r\n",
        "                                                class_mode=\"categorical\") ## categorical\r\n",
        "\r\n",
        "## read test data\r\n",
        "test_set = test_datagen.flow_from_directory(pth_test,\r\n",
        "                                                target_size=(image_width, image_height),\r\n",
        "                                                batch_size=batch_size,\r\n",
        "                                                shuffle=False,\r\n",
        "                                                class_mode=\"categorical\") ## categorical"
      ],
      "execution_count": null,
      "outputs": []
    },
    {
      "cell_type": "markdown",
      "metadata": {
        "id": "eAoPSeeMaxmN"
      },
      "source": [
        "## IMPORTAR MODELO DE CNN"
      ]
    },
    {
      "cell_type": "code",
      "metadata": {
        "id": "C-hzAaJZa0UB"
      },
      "source": [
        "#libreria de deep learning que permite el uso de redes convolucionales\r\n",
        "from keras.models import Sequential\r\n",
        "from keras.layers import Conv2D,Dense,Flatten,Dropout,MaxPooling2D, BatchNormalization, Activation\r\n",
        "from keras.preprocessing.image import ImageDataGenerator\r\n",
        "from keras.callbacks import ReduceLROnPlateau\r\n",
        "from keras.callbacks import ModelCheckpoint, EarlyStopping\r\n",
        "import keras.optimizers as optimizers\r\n",
        "from sklearn.metrics import classification_report, confusion_matrix"
      ],
      "execution_count": null,
      "outputs": []
    },
    {
      "cell_type": "code",
      "metadata": {
        "id": "SU9xeYS4a2kp"
      },
      "source": [
        "## architecture CNN\r\n",
        "from keras.models import Model\r\n",
        "from keras.layers import Dropout, Flatten, Dense, GlobalAveragePooling2D\r\n",
        "from keras.callbacks import ModelCheckpoint, EarlyStopping\r\n",
        "from keras import optimizers"
      ],
      "execution_count": null,
      "outputs": []
    },
    {
      "cell_type": "code",
      "metadata": {
        "id": "OpLtUIVSa5BI"
      },
      "source": [
        "from tensorflow.keras.applications.MODELO import MODELO"
      ],
      "execution_count": null,
      "outputs": []
    },
    {
      "cell_type": "code",
      "metadata": {
        "id": "RBFCQ0mSa-dF"
      },
      "source": [
        "## load the base model without the last layer\r\n",
        "base_model = MODELO(weights=\"imagenet\",\r\n",
        "                   include_top=False,\r\n",
        "                   input_shape=(image_width, image_height, 3))\r\n",
        "\r\n",
        "## architecture summary\r\n",
        "base_model.summary()"
      ],
      "execution_count": null,
      "outputs": []
    },
    {
      "cell_type": "markdown",
      "metadata": {
        "id": "Mft0eg3Wa_jk"
      },
      "source": [
        "## REEMPLAZAR CAPA CLASIFICATORIA"
      ]
    },
    {
      "cell_type": "code",
      "metadata": {
        "id": "kjVTO33nbS_W"
      },
      "source": [
        "## add custom layers\r\n",
        "modelMODELO = Sequential()\r\n",
        "for layer in base_model.layers[:-1]:\r\n",
        "  layer.trainable = False\r\n",
        "\r\n",
        "modelMODELO.add(base_model)\r\n",
        "\r\n",
        "\r\n",
        "# Passing it to a dense layer\r\n",
        "modelMODELO.add(Flatten())\r\n",
        "\r\n",
        "#Dense lay\r\n",
        "\r\n",
        "modelMODELO.add(Dense(512, use_bias=False))\r\n",
        "modelMODELO.add(BatchNormalization())\r\n",
        "modelMODELO.add(Activation(\"relu\"))\r\n",
        "modelMODELO.add(Dropout(0.25))\r\n",
        "\r\n",
        "modelMODELO.add(Dense(256, use_bias=False))\r\n",
        "modelMODELO.add(BatchNormalization())\r\n",
        "modelMODELO.add(Activation(\"relu\"))\r\n",
        "modelMODELO.add(Dropout(0.25))\r\n",
        "\r\n",
        "\r\n",
        "# Output Layer\r\n",
        "modelMODELO.add(Dense(nclas, activation='softmax'))\r\n",
        "modelMODELO.summary()"
      ],
      "execution_count": null,
      "outputs": []
    },
    {
      "cell_type": "code",
      "metadata": {
        "id": "eOea6cjIbj7g"
      },
      "source": [
        "opt = optimizers.Adam(lr = 1.0e-4)\r\n",
        "modelMODELO.compile(loss='categorical_crossentropy', optimizer=opt, metrics=['accuracy'])"
      ],
      "execution_count": null,
      "outputs": []
    },
    {
      "cell_type": "code",
      "metadata": {
        "id": "-_ta9AUobn9T"
      },
      "source": [
        "reduce_learning_rate = ReduceLROnPlateau(monitor='loss',\r\n",
        "                                          factor=0.1,\r\n",
        "                                          patience=2,\r\n",
        "                                          cooldown=2,\r\n",
        "                                         verbose=1)\r\n",
        "\r\n",
        "callbacks = [              ModelCheckpoint(filepath='best_model.h5', monitor='val_acc', save_best_only=True)]\r\n",
        "\r\n",
        "my_history = modelMODELO.fit_generator(training_set,\r\n",
        "                    steps_per_epoch=1718//batch_size,\r\n",
        "                    epochs=100,\r\n",
        "                    validation_data=val_set,\r\n",
        "                    validation_steps=614//batch_size,\r\n",
        "                    callbacks = callbacks,\r\n",
        "                    shuffle= True\r\n",
        "                   )"
      ],
      "execution_count": null,
      "outputs": []
    },
    {
      "cell_type": "markdown",
      "metadata": {
        "id": "3hCfJN3ubrgF"
      },
      "source": [
        "## GRÁFICOS"
      ]
    },
    {
      "cell_type": "code",
      "metadata": {
        "id": "MD3bnEh58dhD"
      },
      "source": [
        "acc = my_history.history['accuracy']\r\n",
        "val_acc = my_history.history['val_accuracy']\r\n",
        "\r\n",
        "loss = my_history.history['loss']\r\n",
        "val_loss = my_history.history['val_loss']\r\n",
        "\r\n",
        "mse = my_history.history['mse']\r\n",
        "val_mse = my_history.history['val_mse']"
      ],
      "execution_count": null,
      "outputs": []
    },
    {
      "cell_type": "code",
      "metadata": {
        "id": "ujda4lzIbtL2"
      },
      "source": [
        "# summarize history for ACC\r\n",
        "plt.figure(1)\r\n",
        "plt.plot(my_history.history['accuracy'])\r\n",
        "plt.plot(my_history.history['val_accuracy'])\r\n",
        "plt.title('model accuracy')\r\n",
        "plt.ylabel('accuracy')\r\n",
        "plt.xlabel('epochs')\r\n",
        "plt.legend(['train', 'val'], loc='upper right')\r\n",
        "plt.show()\r\n",
        "\r\n",
        "# summarize history for LOSS\r\n",
        "plt.figure(2)\r\n",
        "plt.plot(my_history.history['loss'])\r\n",
        "plt.plot(my_history.history['val_loss'])\r\n",
        "plt.title('model loss')\r\n",
        "plt.ylabel('loss')\r\n",
        "plt.xlabel('epoch')\r\n",
        "plt.legend(['train', 'val'], loc='upper right')\r\n",
        "plt.show()"
      ],
      "execution_count": null,
      "outputs": []
    },
    {
      "cell_type": "code",
      "metadata": {
        "id": "NH9crmXZbz0-"
      },
      "source": [
        "# summarize history for loss vs acc\r\n",
        "plt.figure(4)\r\n",
        "plt.plot(my_history.history['accuracy'])\r\n",
        "plt.plot(my_history.history['loss'])\r\n",
        "plt.title('model accuracy')\r\n",
        "plt.ylabel('acc/loss')\r\n",
        "plt.xlabel('epochs')\r\n",
        "plt.legend(['test'], loc='upper right')\r\n",
        "plt.show()"
      ],
      "execution_count": null,
      "outputs": []
    },
    {
      "cell_type": "markdown",
      "metadata": {
        "id": "g51kvb8Bb6JE"
      },
      "source": [
        "## MÉTRICAS Y RESULTADOS"
      ]
    },
    {
      "cell_type": "markdown",
      "metadata": {
        "id": "mskt0jn5cF6U"
      },
      "source": [
        "### ACUURACY"
      ]
    },
    {
      "cell_type": "code",
      "metadata": {
        "id": "3xNk7dxib2yx"
      },
      "source": [
        "scoreVal = modelMODELO.evaluate_generator(val_set)\r\n",
        "print(\"Accuracy = \",scoreVal[1])\r\n",
        "print(\"Loss = \",scoreVal[0])\r\n",
        "print(\"mean_squared_error = \",scoreVal[2])"
      ],
      "execution_count": null,
      "outputs": []
    },
    {
      "cell_type": "markdown",
      "metadata": {
        "id": "DxMRBDFQcJUW"
      },
      "source": [
        "### LOSS"
      ]
    },
    {
      "cell_type": "code",
      "metadata": {
        "id": "_lQCVF4HcB7g"
      },
      "source": [
        "scoreTest = modelMODELO.evaluate_generator(test_set)\r\n",
        "print(\"Accuracy = \",scoreTest[1])\r\n",
        "print(\"Loss = \",scoreTest[0])\r\n",
        "print(\"mean_squared_error = \",scoreTest[2])"
      ],
      "execution_count": null,
      "outputs": []
    },
    {
      "cell_type": "markdown",
      "metadata": {
        "id": "ejNFsd4tcK5m"
      },
      "source": [
        "## REPORTE DE CLASIFICACIÓN"
      ]
    },
    {
      "cell_type": "code",
      "metadata": {
        "id": "p7mHW8hQcNMR"
      },
      "source": [
        "from sklearn.metrics import classification_report, precision_score, confusion_matrix, accuracy_score, mean_squared_error"
      ],
      "execution_count": null,
      "outputs": []
    },
    {
      "cell_type": "code",
      "metadata": {
        "id": "MRfYJ2ZRcP5u"
      },
      "source": [
        "predict = modelMODELO.predict_generator(test_set)\r\n",
        "predict = np.argmax(predict, axis=1)"
      ],
      "execution_count": null,
      "outputs": []
    },
    {
      "cell_type": "code",
      "metadata": {
        "id": "oJkbm_l6cS4O"
      },
      "source": [
        "print('Confusion Matrix')\r\n",
        "print(confusion_matrix(test_set.classes, predict))\r\n",
        "print('Classification Report')\r\n",
        "target_names = [\"1\", \"2\",\t\"3\",\t\"4\",\t\"5\",\t\"6\",\t\"7\",\t\"8\",\t\"9\",\t\"10\",\t\"11\",\t\"12\",\t\"13\",\t\"14\",\t\"15\",\t\"16\",\t\"17\",\t\"18\",\t\"19\",\t\"20\",\t\"21\",\t\"22\",\t\"23\",\t\"24\",\t\"25\",\t\"26\",\t\"27\",\t\"28\",\t\"29\",\t\"30\",\t\"31\",\t\"32\",\t\"33\",\t\"34\",\t\"35\",\t\"36\",\t\"37\",\t\"38\",\t\"39\",\t\"40\",\t\"41\",\t\"42\",\t\"43\",\t\"44\",\t\"45\",\t\"46\",\t\"47\",\t\"48\",\t\"49\",\t\"50\",\t\"51\",\t\"52\",\t\"53\",\t\"54\",\t\"55\",\t\"56\",\t\"57\",\t\"58\",\t\"59\",\t\"60\",\t\"61\",\t\"62\",\t\"63\",\t\"64\",\t\"65\",\t\"66\",\t\"67\",\t\"68\",\t\"69\",\t\"70\",\t\"71\",\t\"72\",\t\"73\",\t\"74\",\t\"75\",\t\"76\",\t\"77\",\t\"78\",\t\"79\",\t\"80\",\t\"81\",\t\"82\",\t\"83\",\t\"84\",\t\"85\",\t\"86\",\t\"87\",\t\"88\",\t\"89\",\t\"90\",\t\"91\",\t\"92\",\t\"93\",\t\"94\",\t\"95\",\t\"96\",\t\"97\",\t\"98\",\t\"99\",\t\"100\",\t\"101\",\t\"102\",\t\"103\",\t\"104\",\t\"105\",\t\"106\",\t\"107\",\t\"108\",\t\"109\",\t\"110\",\t\"111\",\t\"112\",\t\"113\",\t\"114\",\t\"115\",\t\"116\",\t\"117\",\t\"118\",\t\"119\",\t\"120\",\t\"121\",\t\"122\",\t\"123\"]\r\n",
        "print(classification_report(test_set.classes, predict, target_names=target_names))"
      ],
      "execution_count": null,
      "outputs": []
    },
    {
      "cell_type": "markdown",
      "metadata": {
        "id": "bpeUYQkTcV9F"
      },
      "source": [
        "## DIAGRAMA DEL MODELO"
      ]
    },
    {
      "cell_type": "code",
      "metadata": {
        "id": "Agk8MsDmcayb"
      },
      "source": [
        "from keras.utils.vis_utils import plot_model\r\n",
        "plot_model(modelMODELO, to_file='modelin.png', show_shapes=True, show_layer_names=True)"
      ],
      "execution_count": null,
      "outputs": []
    },
    {
      "cell_type": "markdown",
      "metadata": {
        "id": "a6mnfEbr9_2D"
      },
      "source": [
        "## SAVE THE MDOEL"
      ]
    },
    {
      "cell_type": "code",
      "metadata": {
        "id": "hRiPibxd-Bim"
      },
      "source": [
        "from google.colab import drive\r\n",
        "drive.mount('/content/drive')"
      ],
      "execution_count": null,
      "outputs": []
    },
    {
      "cell_type": "code",
      "metadata": {
        "id": "25HCOdJr-C8O"
      },
      "source": [
        "modelMODELO.save(\"modelMODELO.h5\")"
      ],
      "execution_count": null,
      "outputs": []
    },
    {
      "cell_type": "code",
      "metadata": {
        "id": "vSlA0BVK-HFO"
      },
      "source": [
        "!mv modelMODELO.h5 /content/drive/My\\ Drive/modelMODELO.h5"
      ],
      "execution_count": null,
      "outputs": []
    },
    {
      "cell_type": "markdown",
      "metadata": {
        "id": "2jX9CJHJ723o"
      },
      "source": [
        "# II. FINE TUNNING"
      ]
    },
    {
      "cell_type": "code",
      "metadata": {
        "id": "NJmfW1gb75DG"
      },
      "source": [
        "# Leemos la base del modelo\r\n",
        "base_model.trainable = True\r\n",
        "modeloMODELO.summary()"
      ],
      "execution_count": null,
      "outputs": []
    },
    {
      "cell_type": "code",
      "metadata": {
        "id": "ix4vJkO38BVE"
      },
      "source": [
        "# Se observa cuántas capas hay en la base del modelo\r\n",
        "print(\"Number of layers in the base model: \", len(base_model.layers))"
      ],
      "execution_count": null,
      "outputs": []
    },
    {
      "cell_type": "code",
      "metadata": {
        "id": "seuQvLME8Pds"
      },
      "source": [
        "# Se indica desde qué capa se realizará el fine tunning\r\n",
        "fine_tune_at = n\r\n",
        "\r\n",
        "# Se congelan las capas antes de la capa donde aplicará el fine-tunning\r\n",
        "for layer in base_model.layers[:fine_tune_at]:\r\n",
        "  layer.trainable =  False"
      ],
      "execution_count": null,
      "outputs": []
    },
    {
      "cell_type": "code",
      "metadata": {
        "id": "GR23mo2q8u5p"
      },
      "source": [
        "opt2 = optimizers.Adam(lr = 1.0e-4/10)\r\n",
        "modeloMODELO.compile(loss='categorical_crossentropy', optimizer=opt2, metrics=['accuracy'])\r\n",
        "modeloMODELO.summary()"
      ],
      "execution_count": null,
      "outputs": []
    },
    {
      "cell_type": "code",
      "metadata": {
        "id": "UCNvGtaQ8y11"
      },
      "source": [
        "len(modeloMODELO.trainable_variables)"
      ],
      "execution_count": null,
      "outputs": []
    },
    {
      "cell_type": "code",
      "metadata": {
        "id": "PYVmVs6D824T"
      },
      "source": [
        "fine_tune_epochs = 100\r\n",
        "total_epochs =  initial_epoch + fine_tune_epochs\r\n",
        "\r\n",
        "history_fine = modeloMODELO.fit_generator(training_set,\r\n",
        "                    steps_per_epoch=1718//batch_size,\r\n",
        "                    epochs=total_epochs,\r\n",
        "                    initial_epoch=my_history.epoch[-1],\r\n",
        "                    validation_steps=614//batch_size,\r\n",
        "                    validation_data=val_set,\r\n",
        "                    callbacks = callbacks,\r\n",
        "                    shuffle= True\r\n",
        "                   )"
      ],
      "execution_count": null,
      "outputs": []
    },
    {
      "cell_type": "markdown",
      "metadata": {
        "id": "giHPD9339AOs"
      },
      "source": [
        "## GRÁFICOS"
      ]
    },
    {
      "cell_type": "code",
      "metadata": {
        "id": "YY5vRCJA9CDf"
      },
      "source": [
        "acc += history_fine.history['accuracy']\r\n",
        "val_acc += history_fine.history['val_accuracy']\r\n",
        "\r\n",
        "loss += history_fine.history['loss']\r\n",
        "val_loss += history_fine.history['val_loss']\r\n",
        "\r\n",
        "mse += history_fine.history['mse']\r\n",
        "val_mse += history_fine.history['val_mse']"
      ],
      "execution_count": null,
      "outputs": []
    },
    {
      "cell_type": "code",
      "metadata": {
        "id": "9UMoVQcM9HbU"
      },
      "source": [
        "plt.figure(5)\r\n",
        "plt.plot(acc, label='Training Accuracy')\r\n",
        "plt.plot(val_acc, label='Validation Accuracy')\r\n",
        "plt.ylim([0.8, 1])\r\n",
        "plt.plot([initial_epoch-1,initial_epoch-1],\r\n",
        "          plt.ylim(), label='Start Fine Tuning')\r\n",
        "plt.legend(loc='lower right')\r\n",
        "plt.title('Training and Validation Accuracy')\r\n",
        "\r\n",
        "plt.figure(6)\r\n",
        "plt.plot(loss, label='Training Loss')\r\n",
        "plt.plot(val_loss, label='Validation Loss')\r\n",
        "plt.ylim([0, 1.0])\r\n",
        "plt.plot([initial_epoch-1,initial_epoch-1],\r\n",
        "         plt.ylim(), label='Start Fine Tuning')\r\n",
        "plt.legend(loc='upper right')\r\n",
        "plt.title('Training and Validation Loss')\r\n",
        "plt.xlabel('epoch')\r\n",
        "plt.show()\r\n",
        "\r\n",
        "plt.figure(7)\r\n",
        "plt.plot(mse, label='MSE Loss')\r\n",
        "plt.plot(val_mse, label='MSE Loss')\r\n",
        "plt.ylim([0, 1.0])\r\n",
        "plt.plot([initial_epoch-1,initial_epoch-1],\r\n",
        "         plt.ylim(), label='Start Fine Tuning')\r\n",
        "plt.legend(loc='upper right')\r\n",
        "plt.title('Training and Validation MSE')\r\n",
        "plt.xlabel('epoch')\r\n",
        "plt.show()"
      ],
      "execution_count": null,
      "outputs": []
    },
    {
      "cell_type": "markdown",
      "metadata": {
        "id": "w5X-DfP99C33"
      },
      "source": [
        "## MÉTRICAS Y RESULTADOS"
      ]
    },
    {
      "cell_type": "markdown",
      "metadata": {
        "id": "q3p9DAbK9L-E"
      },
      "source": [
        "### ACCURACY"
      ]
    },
    {
      "cell_type": "code",
      "metadata": {
        "id": "Duuuu0Hv9Fdp"
      },
      "source": [
        "scoreVal2 = modeloMODELO.evaluate_generator(val_set)\r\n",
        "print(\"Accuracy = \",scoreVal2[1])\r\n",
        "print(\"Loss = \",scoreVal2[0])\r\n",
        "print(\"mean_squared_error = \",scoreVal2[2])"
      ],
      "execution_count": null,
      "outputs": []
    },
    {
      "cell_type": "markdown",
      "metadata": {
        "id": "jL03DMze9N-c"
      },
      "source": [
        "### LOSS"
      ]
    },
    {
      "cell_type": "code",
      "metadata": {
        "id": "t-GwqR_69PQT"
      },
      "source": [
        "scoreTest2 = modeloMODELO.evaluate_generator(test_set)\r\n",
        "print(\"Accuracy = \",scoreTest2[1])\r\n",
        "print(\"Loss = \",scoreTest2[0])\r\n",
        "print(\"mean_squared_error = \",scoreTest2[2])"
      ],
      "execution_count": null,
      "outputs": []
    },
    {
      "cell_type": "markdown",
      "metadata": {
        "id": "9i9ZKNME9UVW"
      },
      "source": [
        "## REPORTE DE CLASIFICACIÓN"
      ]
    },
    {
      "cell_type": "code",
      "metadata": {
        "id": "7kq3pz9x9cBp"
      },
      "source": [
        "from sklearn.metrics import classification_report, precision_score, confusion_matrix, accuracy_score, mean_squared_error"
      ],
      "execution_count": null,
      "outputs": []
    },
    {
      "cell_type": "code",
      "metadata": {
        "id": "ChfjWJX-9fIG"
      },
      "source": [
        "predict = modeloMODELO.predict_generator(test_set)\r\n",
        "predict = np.argmax(predict, axis=1)"
      ],
      "execution_count": null,
      "outputs": []
    },
    {
      "cell_type": "code",
      "metadata": {
        "id": "nh8WRBw79gzY"
      },
      "source": [
        "print('Confusion Matrix')\r\n",
        "print(confusion_matrix(test_set.classes, predict))\r\n",
        "print('Classification Report')\r\n",
        "target_names = [\"1\", \"2\",\t\"3\",\t\"4\",\t\"5\",\t\"6\",\t\"7\",\t\"8\",\t\"9\",\t\"10\",\t\"11\",\t\"12\",\t\"13\",\t\"14\",\t\"15\",\t\"16\",\t\"17\",\t\"18\",\t\"19\",\t\"20\",\t\"21\",\t\"22\",\t\"23\",\t\"24\",\t\"25\",\t\"26\",\t\"27\",\t\"28\",\t\"29\",\t\"30\",\t\"31\",\t\"32\",\t\"33\",\t\"34\",\t\"35\",\t\"36\",\t\"37\",\t\"38\",\t\"39\",\t\"40\",\t\"41\",\t\"42\",\t\"43\",\t\"44\",\t\"45\",\t\"46\",\t\"47\",\t\"48\",\t\"49\",\t\"50\",\t\"51\",\t\"52\",\t\"53\",\t\"54\",\t\"55\",\t\"56\",\t\"57\",\t\"58\",\t\"59\",\t\"60\",\t\"61\",\t\"62\",\t\"63\",\t\"64\",\t\"65\",\t\"66\",\t\"67\",\t\"68\",\t\"69\",\t\"70\",\t\"71\",\t\"72\",\t\"73\",\t\"74\",\t\"75\",\t\"76\",\t\"77\",\t\"78\",\t\"79\",\t\"80\",\t\"81\",\t\"82\",\t\"83\",\t\"84\",\t\"85\",\t\"86\",\t\"87\",\t\"88\",\t\"89\",\t\"90\",\t\"91\",\t\"92\",\t\"93\",\t\"94\",\t\"95\",\t\"96\",\t\"97\",\t\"98\",\t\"99\",\t\"100\",\t\"101\",\t\"102\",\t\"103\",\t\"104\",\t\"105\",\t\"106\",\t\"107\",\t\"108\",\t\"109\",\t\"110\",\t\"111\",\t\"112\",\t\"113\",\t\"114\",\t\"115\",\t\"116\",\t\"117\",\t\"118\",\t\"119\",\t\"120\",\t\"121\",\t\"122\",\t\"123\"]\r\n",
        "print(classification_report(test_set.classes, predict, target_names=target_names))"
      ],
      "execution_count": null,
      "outputs": []
    },
    {
      "cell_type": "markdown",
      "metadata": {
        "id": "Ei1jeszfcbah"
      },
      "source": [
        "## SAVE THE MODEL"
      ]
    },
    {
      "cell_type": "code",
      "metadata": {
        "id": "EdIWSF7Scj5_"
      },
      "source": [
        "from google.colab import drive\r\n",
        "drive.mount('/content/drive')"
      ],
      "execution_count": null,
      "outputs": []
    },
    {
      "cell_type": "code",
      "metadata": {
        "id": "-8v74BqNcg32"
      },
      "source": [
        "modelMODELO.save(\"modelMODELO_FT.h5\")"
      ],
      "execution_count": null,
      "outputs": []
    },
    {
      "cell_type": "code",
      "metadata": {
        "id": "5LUlAqFYcl6k"
      },
      "source": [
        "!mv modelMODELO_FT.h5 /content/drive/My\\ Drive/modelMODELO_FT.h5"
      ],
      "execution_count": null,
      "outputs": []
    },
    {
      "cell_type": "markdown",
      "metadata": {
        "id": "6Nm09sCE9u4i"
      },
      "source": [
        ""
      ]
    }
  ]
}